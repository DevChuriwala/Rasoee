{
 "cells": [
  {
   "cell_type": "code",
   "execution_count": 67,
   "metadata": {},
   "outputs": [
    {
     "name": "stdout",
     "output_type": "stream",
     "text": [
      "What dish do you want to search ingredients for\n",
      "Deep Dish\n",
      "Deep Dish Pizza http://www.recipezaar.com/Deep-Dish-Pizza-109580 ['basil', ' garlic', ' yeast', ' mozzarella cheese', ' onions', ' oregano', ' salt', ' salt', ' sugar', ' tomato', ' water', ' tomato', ' flour'] \n",
      "\n",
      "Chicago Style Deep-Dish Pizza http://www.recipezaar.com/Chicago-Style-Deep-Dish-Pizza-17300 ['basil', ' black pepper', ' garlic', ' sausage', ' mozzarella cheese', ' olive oil', ' onions', ' oregano', ' parmesan cheese', ' pepperoni', ' pizza dough', ' pizza sauce', ' red pepper'] \n",
      "\n",
      "Biscuit Topped Deep Dish Chicken http://www.recipezaar.com/Biscuit-Topped-Deep-Dish-Chicken-22703 ['butter', ' carrot', ' celery', ' chicken', ' chicken bouillon', ' flour', ' milk', ' onions', ' parsley', ' black pepper', ' potato', ' poultry seasoning', ' salt', ' water'] \n",
      "\n",
      "Chicago Deep Dish Pizza -Easy!!! http://www.recipezaar.com/Chicago-Deep-Dish-Pizza-Easy-154156 ['eggs', ' garlic', ' sausage', ' margarine', ' mozzarella cheese', ' mushroom', ' onions', ' parmesan cheese', ' parsley', ' pasta sauce', ' pepperoni', ' wheat bread'] \n",
      "\n",
      "Deep Dish Antipasto Pizza http://www.recipezaar.com/Deep-Dish-Antipasto-Pizza-152752 ['tomato', ' parmesan cheese', ' artichoke', ' mozzarella cheese', ' onions', ' pepperoni', ' olives', ' sandwich rolls'] \n",
      "\n",
      "Deep Dish Pumpkin Strudel Pie http://www.recipezaar.com/Deep-Dish-Pumpkin-Strudel-Pie-331994 ['pastry'] \n",
      "\n",
      "Deep Dish Spinach and Mozzarella Pizza http://www.recipezaar.com/Deep-Dish-Spinach-and-Mozzarella-Pizza-171223 ['spinach', ' black pepper', ' garlic', ' mozzarella cheese', ' olive oil', ' parmesan cheese', ' pizza dough', ' tomato sauce'] \n",
      "\n",
      "Deep-Dish Apple Pie http://www.recipezaar.com/Deep-Dish-Apple-Pie-274665 ['flour', ' eggs', ' lemon juice', ' granny smith apple', ' allspice', ' cinnamon', ' nutmeg', ' kosher salt', ' lemon zest', ' orange juice', ' orange zest', ' sugar', ' water'] \n",
      "\n",
      "Deep-Dish Family Dough Recipe http://www.recipezaar.com/Deep-Dish-Family-Dough-Recipe-165032 ['yeast', ' crisco', ' olive oil', ' salt', ' sugar', ' flour', ' water', ' cornmeal'] \n",
      "\n",
      "Deep-dish Apple Pie http://www.recipezaar.com/Deep-dish-Apple-Pie-66772 ['apple cider', ' brown sugar', ' brown sugar', ' butter', ' cinnamon', ' flour', ' flour', ' granny smith apple', ' pecan', ' raisins', ' sugar', ' water'] \n",
      "\n"
     ]
    }
   ],
   "source": [
    "import requests\n",
    "import json\n",
    "\n",
    "print(\"What dish do you want to search ingredients for\")\n",
    "inp = input()\n",
    "req = \"http://www.recipepuppy.com/api/?q=\" + inp\n",
    "x = requests.get(req).json()\n",
    "\n",
    "for y in x['results']:\n",
    "    title = \" \".join(y['title'].split())\n",
    "    link = y['href']\n",
    "    ingredients = y['ingredients'].split(',')\n",
    "    print(title, link ,ingredients,'\\n')"
   ]
  },
  {
   "cell_type": "code",
   "execution_count": null,
   "metadata": {},
   "outputs": [],
   "source": []
  }
 ],
 "metadata": {
  "kernelspec": {
   "display_name": "Python 3",
   "language": "python",
   "name": "python3"
  },
  "language_info": {
   "codemirror_mode": {
    "name": "ipython",
    "version": 3
   },
   "file_extension": ".py",
   "mimetype": "text/x-python",
   "name": "python",
   "nbconvert_exporter": "python",
   "pygments_lexer": "ipython3",
   "version": "3.7.5"
  }
 },
 "nbformat": 4,
 "nbformat_minor": 2
}
